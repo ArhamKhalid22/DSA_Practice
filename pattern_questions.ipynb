{
 "cells": [
  {
   "cell_type": "code",
   "execution_count": 5,
   "metadata": {},
   "outputs": [],
   "source": [
    "#Square of side 'N'\n",
    "#Input: 3\n",
    "#Output: ['***', '***', '***']\n",
    "\n",
    "def generate_square(n):\n",
    " \n",
    "# Initialize an empty list to store the rows of the square\n",
    "    square = []\n",
    "    \n",
    "    # Loop n times to generate each row\n",
    "    for i in range(n):\n",
    "        # Create a row of '*' of length n and append it to the list\n",
    "        square.append('*' * 2)\n",
    "    \n",
    "    # Return the list of rows\n",
    "    return square"
   ]
  },
  {
   "cell_type": "code",
   "execution_count": null,
   "metadata": {},
   "outputs": [],
   "source": []
  }
 ],
 "metadata": {
  "kernelspec": {
   "display_name": "Python 3 (ipykernel)",
   "language": "python",
   "name": "python3"
  },
  "language_info": {
   "codemirror_mode": {
    "name": "ipython",
    "version": 3
   },
   "file_extension": ".py",
   "mimetype": "text/x-python",
   "name": "python",
   "nbconvert_exporter": "python",
   "pygments_lexer": "ipython3",
   "version": "3.12.1"
  }
 },
 "nbformat": 4,
 "nbformat_minor": 2
}
