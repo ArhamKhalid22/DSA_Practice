{
 "cells": [
  {
   "cell_type": "code",
   "execution_count": 9,
   "metadata": {},
   "outputs": [],
   "source": [
    "#Square of side 'N'\n",
    "#Input: 3\n",
    "#Output: ['***', '***', '***']\n",
    "\n",
    "def generate_square(n):\n",
    " \n",
    "# Initialize an empty list to store the rows of the square\n",
    "    square = []\n",
    "    \n",
    "    # Loop n times to generate each row\n",
    "    for i in range(n):\n",
    "        # Create a row of '*' of length n and append it to the list\n",
    "        square.append('*' * 2)\n",
    "    \n",
    "    # Return the list of rows\n",
    "    return square"
   ]
  },
  {
   "cell_type": "code",
   "execution_count": 10,
   "metadata": {},
   "outputs": [],
   "source": [
    "#Hollow Square of side 'N'\n",
    "#\"\"\"Input: 3\n",
    "#Output: ['***', '* *', '***']\"\"\"\n",
    "\n",
    "def generate_hollow_square(n):\n",
    "    # Initialize an empty list to store the rows of the hollow square\n",
    "    square = []\n",
    "    \n",
    "    # Handle the case when n is 1 separately\n",
    "    if n == 1:\n",
    "        return ['*']\n",
    "    \n",
    "    # The first and last rows are full of '*'\n",
    "    square.append('*' * n)  # First row\n",
    "    \n",
    "    # For the middle rows, the first and last characters are '*', rest are spaces\n",
    "    for i in range(n - 2):\n",
    "        square.append('*' + ' ' * (n - 2) + '*')\n",
    "    \n",
    "    # The last row is also full of '*'\n",
    "    square.append('*' * n)  # Last row\n",
    "    \n",
    "    # Return the list of rows\n",
    "    return square"
   ]
  },
  {
   "cell_type": "code",
   "execution_count": null,
   "metadata": {},
   "outputs": [],
   "source": []
  }
 ],
 "metadata": {
  "kernelspec": {
   "display_name": "Python 3 (ipykernel)",
   "language": "python",
   "name": "python3"
  },
  "language_info": {
   "codemirror_mode": {
    "name": "ipython",
    "version": 3
   },
   "file_extension": ".py",
   "mimetype": "text/x-python",
   "name": "python",
   "nbconvert_exporter": "python",
   "pygments_lexer": "ipython3",
   "version": "3.12.1"
  }
 },
 "nbformat": 4,
 "nbformat_minor": 2
}
