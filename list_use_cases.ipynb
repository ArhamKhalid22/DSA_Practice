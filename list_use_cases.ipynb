{
 "cells": [
  {
   "cell_type": "code",
   "execution_count": 2,
   "metadata": {},
   "outputs": [
    {
     "name": "stdout",
     "output_type": "stream",
     "text": [
      "To do List\n",
      "-buy food\n",
      "-clean car\n",
      "-meeting\n",
      "['buy food', 'meeting']\n",
      "focus on other tasks\n"
     ]
    }
   ],
   "source": [
    "#####Create to do list\n",
    "\n",
    "to_do_list = [\"buy food\",\"clean car\"]\n",
    "\n",
    "#add items\n",
    "to_do_list.append(\"meeting\")\n",
    "\n",
    "print(\"To do List\")\n",
    "for task in to_do_list:\n",
    "    print(f\"-{task}\")\n",
    "#remove task\n",
    "to_do_list.remove(\"clean car\")\n",
    "print(to_do_list)\n",
    "#check if a task is in list\n",
    "if \"clean car\" in to_do_list:\n",
    "    print(\"dont forget\")\n",
    "else:\n",
    "     print(\"focus on other tasks\")\n",
    "\n"
   ]
  },
  {
   "cell_type": "code",
   "execution_count": 5,
   "metadata": {},
   "outputs": [
    {
     "name": "stdout",
     "output_type": "stream",
     "text": [
      "grades [25, 77, 98, 46]\n",
      "highest 98 lowest 25\n"
     ]
    }
   ],
   "source": [
    "####Organizing student grades\n",
    "\n",
    "grades = [25,77,98,46]\n",
    "print(\"grades\",grades)\n",
    "highest = max(grades)\n",
    "lowest = min(grades)\n",
    "print(\"highest\",highest,\"lowest\",lowest)"
   ]
  },
  {
   "cell_type": "code",
   "execution_count": null,
   "metadata": {},
   "outputs": [],
   "source": []
  }
 ],
 "metadata": {
  "kernelspec": {
   "display_name": "Python 3 (ipykernel)",
   "language": "python",
   "name": "python3"
  }
 },
 "nbformat": 4,
 "nbformat_minor": 2
}
