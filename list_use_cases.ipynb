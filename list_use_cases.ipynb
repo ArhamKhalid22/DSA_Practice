{
 "cells": [
  {
   "cell_type": "code",
   "execution_count": 14,
   "metadata": {},
   "outputs": [
    {
     "name": "stdout",
     "output_type": "stream",
     "text": [
      "To do List\n",
      "-buy food\n",
      "-clean car\n",
      "-meeting\n",
      "['buy food', 'meeting']\n",
      "focus on other tasks\n"
     ]
    }
   ],
   "source": [
    "#####Create to do list\n",
    "\n",
    "to_do_list = [\"buy food\",\"clean car\"]\n",
    "\n",
    "#add items\n",
    "to_do_list.append(\"meeting\")\n",
    "\n",
    "print(\"To do List\")\n",
    "for task in to_do_list:\n",
    "    print(f\"-{task}\")\n",
    "#remove task\n",
    "to_do_list.remove(\"clean car\")\n",
    "print(to_do_list)\n",
    "#check if a task is in list\n",
    "if \"clean car\" in to_do_list:\n",
    "    print(\"dont forget\")\n",
    "else:\n",
    "     print(\"focus on other tasks\")\n",
    "\n"
   ]
  },
  {
   "cell_type": "code",
   "execution_count": 4,
   "metadata": {},
   "outputs": [
    {
     "data": {
      "text/plain": [
       "[]"
      ]
     },
     "execution_count": 4,
     "metadata": {},
     "output_type": "execute_result"
    }
   ],
   "source": []
  },
  {
   "cell_type": "code",
   "execution_count": null,
   "metadata": {},
   "outputs": [],
   "source": []
  }
 ],
 "metadata": {
  "kernelspec": {
   "display_name": "Python 3 (ipykernel)",
   "language": "python",
   "name": "python3"
  },
  "language_info": {
   "codemirror_mode": {
    "name": "ipython",
    "version": 3
   },
   "file_extension": ".py",
   "mimetype": "text/x-python",
   "name": "python",
   "nbconvert_exporter": "python",
   "pygments_lexer": "ipython3",
   "version": "3.12.1"
  }
 },
 "nbformat": 4,
 "nbformat_minor": 2
}
